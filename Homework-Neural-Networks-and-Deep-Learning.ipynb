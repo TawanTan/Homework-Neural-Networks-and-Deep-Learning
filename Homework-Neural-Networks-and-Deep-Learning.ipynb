{
 "cells": [
  {
   "cell_type": "code",
   "execution_count": 10,
   "metadata": {},
   "outputs": [],
   "source": [
    "import numpy as np \n",
    "import pandas as pd\n",
    "import matplotlib.pyplot as plt\n",
    "import seaborn as sns"
   ]
  },
  {
   "cell_type": "code",
   "execution_count": 25,
   "metadata": {
    "scrolled": true
   },
   "outputs": [],
   "source": [
    "from keras.models import Sequential\n",
    "from keras.layers import Dense"
   ]
  },
  {
   "cell_type": "markdown",
   "metadata": {},
   "source": [
    "# 1. ทำการ Predict คนไข้ว่าจะเป็นเบาหวานหรือไม่ โดยใช้ Keras ทำงานกับ Structured Data "
   ]
  },
  {
   "cell_type": "code",
   "execution_count": 144,
   "metadata": {},
   "outputs": [],
   "source": [
    "# load dataset\n",
    "pima_ind = np.loadtxt(\"https://raw.githubusercontent.com/jbrownlee/Datasets/master/pima-indians-diabetes.data.csv\", delimiter=\",\")"
   ]
  },
  {
   "cell_type": "code",
   "execution_count": 145,
   "metadata": {},
   "outputs": [
    {
     "data": {
      "text/plain": [
       "array([[  6.   , 148.   ,  72.   , ...,   0.627,  50.   ,   1.   ],\n",
       "       [  1.   ,  85.   ,  66.   , ...,   0.351,  31.   ,   0.   ],\n",
       "       [  8.   , 183.   ,  64.   , ...,   0.672,  32.   ,   1.   ],\n",
       "       ...,\n",
       "       [  5.   , 121.   ,  72.   , ...,   0.245,  30.   ,   0.   ],\n",
       "       [  1.   , 126.   ,  60.   , ...,   0.349,  47.   ,   1.   ],\n",
       "       [  1.   ,  93.   ,  70.   , ...,   0.315,  23.   ,   0.   ]])"
      ]
     },
     "execution_count": 145,
     "metadata": {},
     "output_type": "execute_result"
    }
   ],
   "source": [
    "pima_ind"
   ]
  },
  {
   "cell_type": "code",
   "execution_count": 207,
   "metadata": {},
   "outputs": [],
   "source": [
    "# split to X, y\n",
    "X = pima_ind[:,0:8]\n",
    "y = pima_ind[:,8]"
   ]
  },
  {
   "cell_type": "code",
   "execution_count": 208,
   "metadata": {},
   "outputs": [],
   "source": [
    "# create model\n",
    "model = Sequential()\n",
    "model.add(Dense(12, input_shape=(8,), activation='relu'))\n",
    "model.add(Dense(8, activation='relu'))\n",
    "model.add(Dense(1, activation='sigmoid'))"
   ]
  },
  {
   "cell_type": "code",
   "execution_count": 209,
   "metadata": {},
   "outputs": [],
   "source": [
    "# compile model\n",
    "model.compile(loss='binary_crossentropy', \n",
    "              optimizer='adam', \n",
    "              metrics=['accuracy'])"
   ]
  },
  {
   "cell_type": "code",
   "execution_count": 210,
   "metadata": {
    "scrolled": true
   },
   "outputs": [
    {
     "name": "stdout",
     "output_type": "stream",
     "text": [
      "Train on 514 samples, validate on 254 samples\n",
      "Epoch 1/150\n",
      "514/514 [==============================] - 1s 1ms/step - loss: 1.6295 - accuracy: 0.5214 - val_loss: 0.9760 - val_accuracy: 0.5551\n",
      "Epoch 2/150\n",
      "514/514 [==============================] - 0s 327us/step - loss: 0.8831 - accuracy: 0.6167 - val_loss: 0.7331 - val_accuracy: 0.6339\n",
      "Epoch 3/150\n",
      "514/514 [==============================] - 0s 320us/step - loss: 0.8101 - accuracy: 0.6128 - val_loss: 0.7040 - val_accuracy: 0.6299\n",
      "Epoch 4/150\n",
      "514/514 [==============================] - 0s 319us/step - loss: 0.7316 - accuracy: 0.6148 - val_loss: 0.7097 - val_accuracy: 0.6220\n",
      "Epoch 5/150\n",
      "514/514 [==============================] - 0s 321us/step - loss: 0.7643 - accuracy: 0.5934 - val_loss: 0.7118 - val_accuracy: 0.6299\n",
      "Epoch 6/150\n",
      "514/514 [==============================] - 0s 323us/step - loss: 0.7413 - accuracy: 0.6420 - val_loss: 0.6812 - val_accuracy: 0.6299\n",
      "Epoch 7/150\n",
      "514/514 [==============================] - 0s 328us/step - loss: 0.7241 - accuracy: 0.6245 - val_loss: 0.7049 - val_accuracy: 0.6220\n",
      "Epoch 8/150\n",
      "514/514 [==============================] - 0s 312us/step - loss: 0.6881 - accuracy: 0.6479 - val_loss: 0.6754 - val_accuracy: 0.6102\n",
      "Epoch 9/150\n",
      "514/514 [==============================] - 0s 316us/step - loss: 0.6964 - accuracy: 0.6323 - val_loss: 0.6714 - val_accuracy: 0.6220\n",
      "Epoch 10/150\n",
      "514/514 [==============================] - 0s 314us/step - loss: 0.6851 - accuracy: 0.6615 - val_loss: 0.6576 - val_accuracy: 0.6339\n",
      "Epoch 11/150\n",
      "514/514 [==============================] - 0s 314us/step - loss: 0.6638 - accuracy: 0.6576 - val_loss: 0.6650 - val_accuracy: 0.6693\n",
      "Epoch 12/150\n",
      "514/514 [==============================] - 0s 315us/step - loss: 0.6439 - accuracy: 0.6576 - val_loss: 0.6867 - val_accuracy: 0.6142\n",
      "Epoch 13/150\n",
      "514/514 [==============================] - 0s 299us/step - loss: 0.6751 - accuracy: 0.6459 - val_loss: 0.6513 - val_accuracy: 0.6339\n",
      "Epoch 14/150\n",
      "514/514 [==============================] - 0s 356us/step - loss: 0.6591 - accuracy: 0.6556 - val_loss: 0.6440 - val_accuracy: 0.6378\n",
      "Epoch 15/150\n",
      "514/514 [==============================] - 0s 357us/step - loss: 0.6440 - accuracy: 0.6712 - val_loss: 0.6375 - val_accuracy: 0.6575\n",
      "Epoch 16/150\n",
      "514/514 [==============================] - 0s 391us/step - loss: 0.6475 - accuracy: 0.6595 - val_loss: 0.6282 - val_accuracy: 0.6457\n",
      "Epoch 17/150\n",
      "514/514 [==============================] - 0s 374us/step - loss: 0.6332 - accuracy: 0.6556 - val_loss: 0.6263 - val_accuracy: 0.6457\n",
      "Epoch 18/150\n",
      "514/514 [==============================] - 0s 343us/step - loss: 0.6691 - accuracy: 0.6732 - val_loss: 0.6949 - val_accuracy: 0.6811\n",
      "Epoch 19/150\n",
      "514/514 [==============================] - 0s 343us/step - loss: 0.6719 - accuracy: 0.6381 - val_loss: 0.6416 - val_accuracy: 0.6181\n",
      "Epoch 20/150\n",
      "514/514 [==============================] - 0s 437us/step - loss: 0.6420 - accuracy: 0.6809 - val_loss: 0.6348 - val_accuracy: 0.6850\n",
      "Epoch 21/150\n",
      "514/514 [==============================] - 0s 395us/step - loss: 0.6683 - accuracy: 0.6751 - val_loss: 0.6147 - val_accuracy: 0.6614\n",
      "Epoch 22/150\n",
      "514/514 [==============================] - 0s 339us/step - loss: 0.6176 - accuracy: 0.6615 - val_loss: 0.6120 - val_accuracy: 0.6772\n",
      "Epoch 23/150\n",
      "514/514 [==============================] - 0s 314us/step - loss: 0.6140 - accuracy: 0.6770 - val_loss: 0.6290 - val_accuracy: 0.6339\n",
      "Epoch 24/150\n",
      "514/514 [==============================] - 0s 331us/step - loss: 0.6042 - accuracy: 0.6732 - val_loss: 0.6281 - val_accuracy: 0.6575\n",
      "Epoch 25/150\n",
      "514/514 [==============================] - 0s 434us/step - loss: 0.6200 - accuracy: 0.6673 - val_loss: 0.6329 - val_accuracy: 0.6417\n",
      "Epoch 26/150\n",
      "514/514 [==============================] - 0s 328us/step - loss: 0.6058 - accuracy: 0.6848 - val_loss: 0.6094 - val_accuracy: 0.6496\n",
      "Epoch 27/150\n",
      "514/514 [==============================] - 0s 350us/step - loss: 0.6123 - accuracy: 0.6809 - val_loss: 0.5978 - val_accuracy: 0.6772\n",
      "Epoch 28/150\n",
      "514/514 [==============================] - 0s 371us/step - loss: 0.6022 - accuracy: 0.6693 - val_loss: 0.6022 - val_accuracy: 0.6378\n",
      "Epoch 29/150\n",
      "514/514 [==============================] - 0s 370us/step - loss: 0.6071 - accuracy: 0.6712 - val_loss: 0.6147 - val_accuracy: 0.6969\n",
      "Epoch 30/150\n",
      "514/514 [==============================] - 0s 367us/step - loss: 0.5968 - accuracy: 0.6693 - val_loss: 0.6158 - val_accuracy: 0.6890\n",
      "Epoch 31/150\n",
      "514/514 [==============================] - 0s 414us/step - loss: 0.6110 - accuracy: 0.6946 - val_loss: 0.6159 - val_accuracy: 0.6220\n",
      "Epoch 32/150\n",
      "514/514 [==============================] - 0s 329us/step - loss: 0.5951 - accuracy: 0.6809 - val_loss: 0.6300 - val_accuracy: 0.6063\n",
      "Epoch 33/150\n",
      "514/514 [==============================] - 0s 349us/step - loss: 0.6012 - accuracy: 0.6829 - val_loss: 0.6681 - val_accuracy: 0.6024\n",
      "Epoch 34/150\n",
      "514/514 [==============================] - 0s 353us/step - loss: 0.5989 - accuracy: 0.6926 - val_loss: 0.6162 - val_accuracy: 0.6220\n",
      "Epoch 35/150\n",
      "514/514 [==============================] - 0s 400us/step - loss: 0.5996 - accuracy: 0.7160 - val_loss: 0.6131 - val_accuracy: 0.6260\n",
      "Epoch 36/150\n",
      "514/514 [==============================] - 0s 387us/step - loss: 0.5991 - accuracy: 0.6868 - val_loss: 0.5940 - val_accuracy: 0.6496\n",
      "Epoch 37/150\n",
      "514/514 [==============================] - 0s 313us/step - loss: 0.5826 - accuracy: 0.7062 - val_loss: 0.5887 - val_accuracy: 0.6969\n",
      "Epoch 38/150\n",
      "514/514 [==============================] - 0s 321us/step - loss: 0.5976 - accuracy: 0.6809 - val_loss: 0.6101 - val_accuracy: 0.6378\n",
      "Epoch 39/150\n",
      "514/514 [==============================] - 0s 322us/step - loss: 0.5866 - accuracy: 0.6770 - val_loss: 0.5978 - val_accuracy: 0.6772\n",
      "Epoch 40/150\n",
      "514/514 [==============================] - 0s 365us/step - loss: 0.5869 - accuracy: 0.6809 - val_loss: 0.6013 - val_accuracy: 0.7008\n",
      "Epoch 41/150\n",
      "514/514 [==============================] - 0s 373us/step - loss: 0.5751 - accuracy: 0.7082 - val_loss: 0.6066 - val_accuracy: 0.6299\n",
      "Epoch 42/150\n",
      "514/514 [==============================] - 0s 327us/step - loss: 0.5765 - accuracy: 0.6965 - val_loss: 0.6417 - val_accuracy: 0.6890\n",
      "Epoch 43/150\n",
      "514/514 [==============================] - 0s 339us/step - loss: 0.6018 - accuracy: 0.6809 - val_loss: 0.5816 - val_accuracy: 0.6732\n",
      "Epoch 44/150\n",
      "514/514 [==============================] - 0s 334us/step - loss: 0.5848 - accuracy: 0.6887 - val_loss: 0.6072 - val_accuracy: 0.6339\n",
      "Epoch 45/150\n",
      "514/514 [==============================] - 0s 387us/step - loss: 0.6247 - accuracy: 0.6809 - val_loss: 0.6025 - val_accuracy: 0.6299\n",
      "Epoch 46/150\n",
      "514/514 [==============================] - 0s 430us/step - loss: 0.5800 - accuracy: 0.6984 - val_loss: 0.5810 - val_accuracy: 0.7126\n",
      "Epoch 47/150\n",
      "514/514 [==============================] - 0s 337us/step - loss: 0.5876 - accuracy: 0.7023 - val_loss: 0.5966 - val_accuracy: 0.6929\n",
      "Epoch 48/150\n",
      "514/514 [==============================] - 0s 324us/step - loss: 0.5868 - accuracy: 0.7140 - val_loss: 0.6113 - val_accuracy: 0.7047\n",
      "Epoch 49/150\n",
      "514/514 [==============================] - 0s 304us/step - loss: 0.5806 - accuracy: 0.7043 - val_loss: 0.5732 - val_accuracy: 0.7008\n",
      "Epoch 50/150\n",
      "514/514 [==============================] - 0s 327us/step - loss: 0.5624 - accuracy: 0.7023 - val_loss: 0.5730 - val_accuracy: 0.7047\n",
      "Epoch 51/150\n",
      "514/514 [==============================] - 0s 367us/step - loss: 0.5653 - accuracy: 0.7140 - val_loss: 0.5787 - val_accuracy: 0.6496\n",
      "Epoch 52/150\n",
      "514/514 [==============================] - 0s 322us/step - loss: 0.5800 - accuracy: 0.7179 - val_loss: 0.5814 - val_accuracy: 0.7047\n",
      "Epoch 53/150\n",
      "514/514 [==============================] - 0s 328us/step - loss: 0.5768 - accuracy: 0.7062 - val_loss: 0.5817 - val_accuracy: 0.6378\n",
      "Epoch 54/150\n",
      "514/514 [==============================] - 0s 325us/step - loss: 0.5589 - accuracy: 0.7276 - val_loss: 0.5747 - val_accuracy: 0.6929\n",
      "Epoch 55/150\n",
      "514/514 [==============================] - 0s 406us/step - loss: 0.5773 - accuracy: 0.7140 - val_loss: 0.5770 - val_accuracy: 0.6732\n",
      "Epoch 56/150\n",
      "514/514 [==============================] - 0s 318us/step - loss: 0.5669 - accuracy: 0.7062 - val_loss: 0.5868 - val_accuracy: 0.6575\n"
     ]
    },
    {
     "name": "stdout",
     "output_type": "stream",
     "text": [
      "Epoch 57/150\n",
      "514/514 [==============================] - 0s 316us/step - loss: 0.5696 - accuracy: 0.7198 - val_loss: 0.5698 - val_accuracy: 0.7008\n",
      "Epoch 58/150\n",
      "514/514 [==============================] - 0s 304us/step - loss: 0.5826 - accuracy: 0.7082 - val_loss: 0.6835 - val_accuracy: 0.5945\n",
      "Epoch 59/150\n",
      "514/514 [==============================] - 0s 302us/step - loss: 0.5816 - accuracy: 0.7082 - val_loss: 0.5791 - val_accuracy: 0.6732\n",
      "Epoch 60/150\n",
      "514/514 [==============================] - 0s 299us/step - loss: 0.5728 - accuracy: 0.7276 - val_loss: 0.5813 - val_accuracy: 0.6654\n",
      "Epoch 61/150\n",
      "514/514 [==============================] - 0s 294us/step - loss: 0.5743 - accuracy: 0.6946 - val_loss: 0.5766 - val_accuracy: 0.6535\n",
      "Epoch 62/150\n",
      "514/514 [==============================] - 0s 304us/step - loss: 0.5673 - accuracy: 0.7101 - val_loss: 0.6173 - val_accuracy: 0.6378\n",
      "Epoch 63/150\n",
      "514/514 [==============================] - 0s 305us/step - loss: 0.5575 - accuracy: 0.7218 - val_loss: 0.5653 - val_accuracy: 0.6929\n",
      "Epoch 64/150\n",
      "514/514 [==============================] - 0s 295us/step - loss: 0.5485 - accuracy: 0.7062 - val_loss: 0.5870 - val_accuracy: 0.6969\n",
      "Epoch 65/150\n",
      "514/514 [==============================] - 0s 299us/step - loss: 0.5618 - accuracy: 0.7023 - val_loss: 0.5745 - val_accuracy: 0.7087\n",
      "Epoch 66/150\n",
      "514/514 [==============================] - 0s 294us/step - loss: 0.5521 - accuracy: 0.7374 - val_loss: 0.6496 - val_accuracy: 0.6260\n",
      "Epoch 67/150\n",
      "514/514 [==============================] - 0s 347us/step - loss: 0.5723 - accuracy: 0.7140 - val_loss: 0.5612 - val_accuracy: 0.6732\n",
      "Epoch 68/150\n",
      "514/514 [==============================] - 0s 345us/step - loss: 0.5681 - accuracy: 0.7160 - val_loss: 0.5776 - val_accuracy: 0.6890\n",
      "Epoch 69/150\n",
      "514/514 [==============================] - 0s 327us/step - loss: 0.5608 - accuracy: 0.7198 - val_loss: 0.5754 - val_accuracy: 0.6772\n",
      "Epoch 70/150\n",
      "514/514 [==============================] - 0s 309us/step - loss: 0.5713 - accuracy: 0.7218 - val_loss: 0.5656 - val_accuracy: 0.6772\n",
      "Epoch 71/150\n",
      "514/514 [==============================] - 0s 452us/step - loss: 0.5519 - accuracy: 0.7237 - val_loss: 0.5592 - val_accuracy: 0.6772\n",
      "Epoch 72/150\n",
      "514/514 [==============================] - 0s 426us/step - loss: 0.5448 - accuracy: 0.7237 - val_loss: 0.5699 - val_accuracy: 0.6929\n",
      "Epoch 73/150\n",
      "514/514 [==============================] - 0s 312us/step - loss: 0.5754 - accuracy: 0.7023 - val_loss: 0.5585 - val_accuracy: 0.6811\n",
      "Epoch 74/150\n",
      "514/514 [==============================] - 0s 322us/step - loss: 0.5555 - accuracy: 0.7198 - val_loss: 0.5559 - val_accuracy: 0.7087\n",
      "Epoch 75/150\n",
      "514/514 [==============================] - 0s 456us/step - loss: 0.5521 - accuracy: 0.7276 - val_loss: 0.5539 - val_accuracy: 0.6772\n",
      "Epoch 76/150\n",
      "514/514 [==============================] - 0s 424us/step - loss: 0.5578 - accuracy: 0.7393 - val_loss: 0.5565 - val_accuracy: 0.6890\n",
      "Epoch 77/150\n",
      "514/514 [==============================] - 0s 321us/step - loss: 0.5653 - accuracy: 0.7160 - val_loss: 0.5540 - val_accuracy: 0.6890\n",
      "Epoch 78/150\n",
      "514/514 [==============================] - 0s 526us/step - loss: 0.5679 - accuracy: 0.7160 - val_loss: 0.5589 - val_accuracy: 0.7205\n",
      "Epoch 79/150\n",
      "514/514 [==============================] - 0s 411us/step - loss: 0.5559 - accuracy: 0.7276 - val_loss: 0.5800 - val_accuracy: 0.6772\n",
      "Epoch 80/150\n",
      "514/514 [==============================] - 0s 325us/step - loss: 0.5616 - accuracy: 0.7140 - val_loss: 0.5593 - val_accuracy: 0.6929\n",
      "Epoch 81/150\n",
      "514/514 [==============================] - 0s 546us/step - loss: 0.5584 - accuracy: 0.7179 - val_loss: 0.6023 - val_accuracy: 0.6654\n",
      "Epoch 82/150\n",
      "514/514 [==============================] - 0s 339us/step - loss: 0.5457 - accuracy: 0.7276 - val_loss: 0.5899 - val_accuracy: 0.6890\n",
      "Epoch 83/150\n",
      "514/514 [==============================] - 0s 336us/step - loss: 0.5406 - accuracy: 0.7393 - val_loss: 0.5622 - val_accuracy: 0.6890\n",
      "Epoch 84/150\n",
      "514/514 [==============================] - 0s 319us/step - loss: 0.5763 - accuracy: 0.7062 - val_loss: 0.5540 - val_accuracy: 0.6850\n",
      "Epoch 85/150\n",
      "514/514 [==============================] - 0s 343us/step - loss: 0.5535 - accuracy: 0.7237 - val_loss: 0.5881 - val_accuracy: 0.6772\n",
      "Epoch 86/150\n",
      "514/514 [==============================] - 0s 330us/step - loss: 0.5545 - accuracy: 0.7296 - val_loss: 0.5982 - val_accuracy: 0.6890\n",
      "Epoch 87/150\n",
      "514/514 [==============================] - 0s 510us/step - loss: 0.5533 - accuracy: 0.7393 - val_loss: 0.5531 - val_accuracy: 0.6929\n",
      "Epoch 88/150\n",
      "514/514 [==============================] - 0s 411us/step - loss: 0.5475 - accuracy: 0.7296 - val_loss: 0.5491 - val_accuracy: 0.7126\n",
      "Epoch 89/150\n",
      "514/514 [==============================] - 0s 310us/step - loss: 0.5529 - accuracy: 0.7296 - val_loss: 0.5502 - val_accuracy: 0.6929\n",
      "Epoch 90/150\n",
      "514/514 [==============================] - 0s 318us/step - loss: 0.5523 - accuracy: 0.7140 - val_loss: 0.5762 - val_accuracy: 0.6654\n",
      "Epoch 91/150\n",
      "514/514 [==============================] - 0s 332us/step - loss: 0.5533 - accuracy: 0.7198 - val_loss: 0.5572 - val_accuracy: 0.6929\n",
      "Epoch 92/150\n",
      "514/514 [==============================] - 0s 334us/step - loss: 0.5406 - accuracy: 0.7354 - val_loss: 0.5804 - val_accuracy: 0.6890\n",
      "Epoch 93/150\n",
      "514/514 [==============================] - 0s 324us/step - loss: 0.5653 - accuracy: 0.7121 - val_loss: 0.5767 - val_accuracy: 0.6811\n",
      "Epoch 94/150\n",
      "514/514 [==============================] - 0s 374us/step - loss: 0.5398 - accuracy: 0.7276 - val_loss: 0.5666 - val_accuracy: 0.7008\n",
      "Epoch 95/150\n",
      "514/514 [==============================] - 0s 324us/step - loss: 0.5370 - accuracy: 0.7179 - val_loss: 0.5502 - val_accuracy: 0.7165\n",
      "Epoch 96/150\n",
      "514/514 [==============================] - 0s 305us/step - loss: 0.5485 - accuracy: 0.7237 - val_loss: 0.5605 - val_accuracy: 0.6969\n",
      "Epoch 97/150\n",
      "514/514 [==============================] - 0s 304us/step - loss: 0.5389 - accuracy: 0.7335 - val_loss: 0.5511 - val_accuracy: 0.7126\n",
      "Epoch 98/150\n",
      "514/514 [==============================] - 0s 312us/step - loss: 0.5322 - accuracy: 0.7588 - val_loss: 0.5544 - val_accuracy: 0.7126\n",
      "Epoch 99/150\n",
      "514/514 [==============================] - 0s 311us/step - loss: 0.5236 - accuracy: 0.7490 - val_loss: 0.5788 - val_accuracy: 0.7323\n",
      "Epoch 100/150\n",
      "514/514 [==============================] - 0s 308us/step - loss: 0.5526 - accuracy: 0.7198 - val_loss: 0.5469 - val_accuracy: 0.7126\n",
      "Epoch 101/150\n",
      "514/514 [==============================] - 0s 306us/step - loss: 0.5497 - accuracy: 0.7354 - val_loss: 0.5433 - val_accuracy: 0.7165\n",
      "Epoch 102/150\n",
      "514/514 [==============================] - 0s 313us/step - loss: 0.5413 - accuracy: 0.7335 - val_loss: 0.5525 - val_accuracy: 0.7126\n",
      "Epoch 103/150\n",
      "514/514 [==============================] - 0s 309us/step - loss: 0.5358 - accuracy: 0.7335 - val_loss: 0.5416 - val_accuracy: 0.7087\n",
      "Epoch 104/150\n",
      "514/514 [==============================] - 0s 305us/step - loss: 0.5359 - accuracy: 0.7374 - val_loss: 0.5516 - val_accuracy: 0.7126\n",
      "Epoch 105/150\n",
      "514/514 [==============================] - 0s 296us/step - loss: 0.5460 - accuracy: 0.7354 - val_loss: 0.5486 - val_accuracy: 0.7205\n",
      "Epoch 106/150\n",
      "514/514 [==============================] - 0s 308us/step - loss: 0.5352 - accuracy: 0.7257 - val_loss: 0.5566 - val_accuracy: 0.7047\n",
      "Epoch 107/150\n",
      "514/514 [==============================] - 0s 297us/step - loss: 0.5368 - accuracy: 0.7412 - val_loss: 0.5452 - val_accuracy: 0.7047\n",
      "Epoch 108/150\n",
      "514/514 [==============================] - 0s 305us/step - loss: 0.5543 - accuracy: 0.7276 - val_loss: 0.5465 - val_accuracy: 0.7087\n",
      "Epoch 109/150\n",
      "514/514 [==============================] - 0s 305us/step - loss: 0.5489 - accuracy: 0.7179 - val_loss: 0.5749 - val_accuracy: 0.6890\n",
      "Epoch 110/150\n",
      "514/514 [==============================] - 0s 302us/step - loss: 0.5458 - accuracy: 0.7276 - val_loss: 0.5987 - val_accuracy: 0.6929\n",
      "Epoch 111/150\n",
      "514/514 [==============================] - 0s 295us/step - loss: 0.5505 - accuracy: 0.7237 - val_loss: 0.5751 - val_accuracy: 0.6890\n",
      "Epoch 112/150\n",
      "514/514 [==============================] - 0s 306us/step - loss: 0.5168 - accuracy: 0.7626 - val_loss: 0.6371 - val_accuracy: 0.6220\n",
      "Epoch 113/150\n"
     ]
    },
    {
     "name": "stdout",
     "output_type": "stream",
     "text": [
      "514/514 [==============================] - 0s 308us/step - loss: 0.5627 - accuracy: 0.7412 - val_loss: 0.6301 - val_accuracy: 0.6890\n",
      "Epoch 114/150\n",
      "514/514 [==============================] - 0s 305us/step - loss: 0.5544 - accuracy: 0.7140 - val_loss: 0.5480 - val_accuracy: 0.7205\n",
      "Epoch 115/150\n",
      "514/514 [==============================] - 0s 293us/step - loss: 0.5466 - accuracy: 0.7218 - val_loss: 0.5613 - val_accuracy: 0.7205\n",
      "Epoch 116/150\n",
      "514/514 [==============================] - 0s 298us/step - loss: 0.5462 - accuracy: 0.7276 - val_loss: 0.5418 - val_accuracy: 0.7165\n",
      "Epoch 117/150\n",
      "514/514 [==============================] - 0s 298us/step - loss: 0.5238 - accuracy: 0.7529 - val_loss: 0.5705 - val_accuracy: 0.6969\n",
      "Epoch 118/150\n",
      "514/514 [==============================] - 0s 293us/step - loss: 0.5402 - accuracy: 0.7315 - val_loss: 0.5420 - val_accuracy: 0.7283\n",
      "Epoch 119/150\n",
      "514/514 [==============================] - 0s 302us/step - loss: 0.5262 - accuracy: 0.7568 - val_loss: 0.5612 - val_accuracy: 0.6890\n",
      "Epoch 120/150\n",
      "514/514 [==============================] - 0s 302us/step - loss: 0.5355 - accuracy: 0.7257 - val_loss: 0.5410 - val_accuracy: 0.7244\n",
      "Epoch 121/150\n",
      "514/514 [==============================] - 0s 295us/step - loss: 0.5265 - accuracy: 0.7432 - val_loss: 0.5415 - val_accuracy: 0.7205\n",
      "Epoch 122/150\n",
      "514/514 [==============================] - 0s 300us/step - loss: 0.5352 - accuracy: 0.7374 - val_loss: 0.5621 - val_accuracy: 0.7165\n",
      "Epoch 123/150\n",
      "514/514 [==============================] - 0s 302us/step - loss: 0.5523 - accuracy: 0.7237 - val_loss: 0.5427 - val_accuracy: 0.7165\n",
      "Epoch 124/150\n",
      "514/514 [==============================] - 0s 303us/step - loss: 0.5292 - accuracy: 0.7432 - val_loss: 0.5484 - val_accuracy: 0.7283\n",
      "Epoch 125/150\n",
      "514/514 [==============================] - 0s 303us/step - loss: 0.5336 - accuracy: 0.7335 - val_loss: 0.5393 - val_accuracy: 0.7205\n",
      "Epoch 126/150\n",
      "514/514 [==============================] - 0s 571us/step - loss: 0.5422 - accuracy: 0.7257 - val_loss: 0.5964 - val_accuracy: 0.6811\n",
      "Epoch 127/150\n",
      "514/514 [==============================] - 0s 300us/step - loss: 0.5294 - accuracy: 0.7549 - val_loss: 0.5380 - val_accuracy: 0.7244\n",
      "Epoch 128/150\n",
      "514/514 [==============================] - 0s 306us/step - loss: 0.5270 - accuracy: 0.7432 - val_loss: 0.5545 - val_accuracy: 0.7008\n",
      "Epoch 129/150\n",
      "514/514 [==============================] - 0s 309us/step - loss: 0.5219 - accuracy: 0.7588 - val_loss: 0.5371 - val_accuracy: 0.7205\n",
      "Epoch 130/150\n",
      "514/514 [==============================] - 0s 380us/step - loss: 0.5289 - accuracy: 0.7335 - val_loss: 0.5726 - val_accuracy: 0.7087\n",
      "Epoch 131/150\n",
      "514/514 [==============================] - 0s 397us/step - loss: 0.5247 - accuracy: 0.7490 - val_loss: 0.5774 - val_accuracy: 0.6969\n",
      "Epoch 132/150\n",
      "514/514 [==============================] - 0s 409us/step - loss: 0.5244 - accuracy: 0.7315 - val_loss: 0.5421 - val_accuracy: 0.7165\n",
      "Epoch 133/150\n",
      "514/514 [==============================] - 0s 388us/step - loss: 0.5395 - accuracy: 0.7354 - val_loss: 0.5455 - val_accuracy: 0.7520\n",
      "Epoch 134/150\n",
      "514/514 [==============================] - 0s 420us/step - loss: 0.5254 - accuracy: 0.7490 - val_loss: 0.5517 - val_accuracy: 0.7165\n",
      "Epoch 135/150\n",
      "514/514 [==============================] - 0s 457us/step - loss: 0.5377 - accuracy: 0.7374 - val_loss: 0.5447 - val_accuracy: 0.7165\n",
      "Epoch 136/150\n",
      "514/514 [==============================] - 0s 407us/step - loss: 0.5154 - accuracy: 0.7471 - val_loss: 0.5342 - val_accuracy: 0.7165\n",
      "Epoch 137/150\n",
      "514/514 [==============================] - 0s 423us/step - loss: 0.5261 - accuracy: 0.7412 - val_loss: 0.5303 - val_accuracy: 0.7205\n",
      "Epoch 138/150\n",
      "514/514 [==============================] - 0s 388us/step - loss: 0.5144 - accuracy: 0.7432 - val_loss: 0.5806 - val_accuracy: 0.6890\n",
      "Epoch 139/150\n",
      "514/514 [==============================] - 0s 370us/step - loss: 0.5422 - accuracy: 0.7140 - val_loss: 0.5549 - val_accuracy: 0.7402\n",
      "Epoch 140/150\n",
      "514/514 [==============================] - 0s 356us/step - loss: 0.5234 - accuracy: 0.7315 - val_loss: 0.5340 - val_accuracy: 0.7126\n",
      "Epoch 141/150\n",
      "514/514 [==============================] - 0s 315us/step - loss: 0.5354 - accuracy: 0.7140 - val_loss: 0.5427 - val_accuracy: 0.7362\n",
      "Epoch 142/150\n",
      "514/514 [==============================] - 0s 329us/step - loss: 0.5124 - accuracy: 0.7568 - val_loss: 0.5518 - val_accuracy: 0.6890\n",
      "Epoch 143/150\n",
      "514/514 [==============================] - 0s 396us/step - loss: 0.5205 - accuracy: 0.7529 - val_loss: 0.5357 - val_accuracy: 0.7244\n",
      "Epoch 144/150\n",
      "514/514 [==============================] - 0s 395us/step - loss: 0.5326 - accuracy: 0.7393 - val_loss: 0.5377 - val_accuracy: 0.7244\n",
      "Epoch 145/150\n",
      "514/514 [==============================] - 0s 345us/step - loss: 0.5220 - accuracy: 0.7412 - val_loss: 0.5457 - val_accuracy: 0.7165\n",
      "Epoch 146/150\n",
      "514/514 [==============================] - 0s 374us/step - loss: 0.5196 - accuracy: 0.7432 - val_loss: 0.5488 - val_accuracy: 0.7441\n",
      "Epoch 147/150\n",
      "514/514 [==============================] - 0s 410us/step - loss: 0.5238 - accuracy: 0.7335 - val_loss: 0.5380 - val_accuracy: 0.7362\n",
      "Epoch 148/150\n",
      "514/514 [==============================] - 0s 364us/step - loss: 0.5140 - accuracy: 0.7451 - val_loss: 0.5421 - val_accuracy: 0.7283\n",
      "Epoch 149/150\n",
      "514/514 [==============================] - 0s 342us/step - loss: 0.5210 - accuracy: 0.7412 - val_loss: 0.5346 - val_accuracy: 0.7283\n",
      "Epoch 150/150\n",
      "514/514 [==============================] - 0s 316us/step - loss: 0.5187 - accuracy: 0.7568 - val_loss: 0.5430 - val_accuracy: 0.7283\n"
     ]
    }
   ],
   "source": [
    "# fit model\n",
    "history = model.fit(X, y, \n",
    "                    validation_split=0.33,\n",
    "                    epochs=150, \n",
    "                    batch_size=10, \n",
    "                    )"
   ]
  },
  {
   "cell_type": "code",
   "execution_count": 211,
   "metadata": {
    "scrolled": true
   },
   "outputs": [
    {
     "name": "stdout",
     "output_type": "stream",
     "text": [
      "Model: \"sequential_36\"\n",
      "_________________________________________________________________\n",
      "Layer (type)                 Output Shape              Param #   \n",
      "=================================================================\n",
      "dense_90 (Dense)             (None, 12)                108       \n",
      "_________________________________________________________________\n",
      "dense_91 (Dense)             (None, 8)                 104       \n",
      "_________________________________________________________________\n",
      "dense_92 (Dense)             (None, 1)                 9         \n",
      "=================================================================\n",
      "Total params: 221\n",
      "Trainable params: 221\n",
      "Non-trainable params: 0\n",
      "_________________________________________________________________\n"
     ]
    }
   ],
   "source": [
    "model.summary()"
   ]
  },
  {
   "cell_type": "code",
   "execution_count": 212,
   "metadata": {},
   "outputs": [
    {
     "name": "stdout",
     "output_type": "stream",
     "text": [
      "dict_keys(['val_loss', 'val_accuracy', 'loss', 'accuracy'])\n"
     ]
    }
   ],
   "source": [
    "# list all data in history\n",
    "print(history.history.keys())"
   ]
  },
  {
   "cell_type": "code",
   "execution_count": 213,
   "metadata": {},
   "outputs": [
    {
     "data": {
      "image/png": "[encoded data removed]",
      "text/plain": [
       "<Figure size 432x288 with 1 Axes>"
      ]
     },
     "metadata": {
      "needs_background": "light"
     },
     "output_type": "display_data"
    }
   ],
   "source": [
    "# summarize history for accuracy\n",
    "plt.plot(history.history['accuracy'])\n",
    "plt.plot(history.history['val_accuracy'])\n",
    "plt.title('model accuracy')\n",
    "plt.ylabel('accuracy')\n",
    "plt.xlabel('epoch')\n",
    "plt.legend(['train', 'test'], loc='lower right')\n",
    "plt.show()"
   ]
  },
  {
   "cell_type": "code",
   "execution_count": 214,
   "metadata": {},
   "outputs": [
    {
     "data": {
      "image/png": "[encoded data removed]",
      "text/plain": [
       "<Figure size 432x288 with 1 Axes>"
      ]
     },
     "metadata": {
      "needs_background": "light"
     },
     "output_type": "display_data"
    }
   ],
   "source": [
    "# summarize history for loss\n",
    "plt.plot(history.history['loss'])\n",
    "plt.plot(history.history['val_loss'])\n",
    "plt.title('model loss')\n",
    "plt.ylabel('loss')\n",
    "plt.xlabel('epoch')\n",
    "plt.legend(['train', 'test'], loc='lower right')\n",
    "plt.show()"
   ]
  },
  {
   "cell_type": "markdown",
   "metadata": {},
   "source": [
    "# 2. ทำนาย Data ของ MNIST dataset \n"
   ]
  },
  {
   "cell_type": "code",
   "execution_count": 1,
   "metadata": {
    "scrolled": true
   },
   "outputs": [
    {
     "name": "stderr",
     "output_type": "stream",
     "text": [
      "Using TensorFlow backend.\n",
      "/opt/anaconda3/lib/python3.7/site-packages/tensorflow/python/framework/dtypes.py:516: FutureWarning: Passing (type, 1) or '1type' as a synonym of type is deprecated; in a future version of numpy, it will be understood as (type, (1,)) / '(1,)type'.\n",
      "  _np_qint8 = np.dtype([(\"qint8\", np.int8, 1)])\n",
      "/opt/anaconda3/lib/python3.7/site-packages/tensorflow/python/framework/dtypes.py:517: FutureWarning: Passing (type, 1) or '1type' as a synonym of type is deprecated; in a future version of numpy, it will be understood as (type, (1,)) / '(1,)type'.\n",
      "  _np_quint8 = np.dtype([(\"quint8\", np.uint8, 1)])\n",
      "/opt/anaconda3/lib/python3.7/site-packages/tensorflow/python/framework/dtypes.py:518: FutureWarning: Passing (type, 1) or '1type' as a synonym of type is deprecated; in a future version of numpy, it will be understood as (type, (1,)) / '(1,)type'.\n",
      "  _np_qint16 = np.dtype([(\"qint16\", np.int16, 1)])\n",
      "/opt/anaconda3/lib/python3.7/site-packages/tensorflow/python/framework/dtypes.py:519: FutureWarning: Passing (type, 1) or '1type' as a synonym of type is deprecated; in a future version of numpy, it will be understood as (type, (1,)) / '(1,)type'.\n",
      "  _np_quint16 = np.dtype([(\"quint16\", np.uint16, 1)])\n",
      "/opt/anaconda3/lib/python3.7/site-packages/tensorflow/python/framework/dtypes.py:520: FutureWarning: Passing (type, 1) or '1type' as a synonym of type is deprecated; in a future version of numpy, it will be understood as (type, (1,)) / '(1,)type'.\n",
      "  _np_qint32 = np.dtype([(\"qint32\", np.int32, 1)])\n",
      "/opt/anaconda3/lib/python3.7/site-packages/tensorflow/python/framework/dtypes.py:525: FutureWarning: Passing (type, 1) or '1type' as a synonym of type is deprecated; in a future version of numpy, it will be understood as (type, (1,)) / '(1,)type'.\n",
      "  np_resource = np.dtype([(\"resource\", np.ubyte, 1)])\n",
      "/opt/anaconda3/lib/python3.7/site-packages/tensorboard/compat/tensorflow_stub/dtypes.py:541: FutureWarning: Passing (type, 1) or '1type' as a synonym of type is deprecated; in a future version of numpy, it will be understood as (type, (1,)) / '(1,)type'.\n",
      "  _np_qint8 = np.dtype([(\"qint8\", np.int8, 1)])\n",
      "/opt/anaconda3/lib/python3.7/site-packages/tensorboard/compat/tensorflow_stub/dtypes.py:542: FutureWarning: Passing (type, 1) or '1type' as a synonym of type is deprecated; in a future version of numpy, it will be understood as (type, (1,)) / '(1,)type'.\n",
      "  _np_quint8 = np.dtype([(\"quint8\", np.uint8, 1)])\n",
      "/opt/anaconda3/lib/python3.7/site-packages/tensorboard/compat/tensorflow_stub/dtypes.py:543: FutureWarning: Passing (type, 1) or '1type' as a synonym of type is deprecated; in a future version of numpy, it will be understood as (type, (1,)) / '(1,)type'.\n",
      "  _np_qint16 = np.dtype([(\"qint16\", np.int16, 1)])\n",
      "/opt/anaconda3/lib/python3.7/site-packages/tensorboard/compat/tensorflow_stub/dtypes.py:544: FutureWarning: Passing (type, 1) or '1type' as a synonym of type is deprecated; in a future version of numpy, it will be understood as (type, (1,)) / '(1,)type'.\n",
      "  _np_quint16 = np.dtype([(\"quint16\", np.uint16, 1)])\n",
      "/opt/anaconda3/lib/python3.7/site-packages/tensorboard/compat/tensorflow_stub/dtypes.py:545: FutureWarning: Passing (type, 1) or '1type' as a synonym of type is deprecated; in a future version of numpy, it will be understood as (type, (1,)) / '(1,)type'.\n",
      "  _np_qint32 = np.dtype([(\"qint32\", np.int32, 1)])\n",
      "/opt/anaconda3/lib/python3.7/site-packages/tensorboard/compat/tensorflow_stub/dtypes.py:550: FutureWarning: Passing (type, 1) or '1type' as a synonym of type is deprecated; in a future version of numpy, it will be understood as (type, (1,)) / '(1,)type'.\n",
      "  np_resource = np.dtype([(\"resource\", np.ubyte, 1)])\n"
     ]
    }
   ],
   "source": [
    "from keras.datasets import mnist"
   ]
  },
  {
   "cell_type": "code",
   "execution_count": 65,
   "metadata": {},
   "outputs": [],
   "source": [
    "(X_train, y_train), (X_test, y_test) = mnist.load_data()"
   ]
  },
  {
   "cell_type": "code",
   "execution_count": 66,
   "metadata": {},
   "outputs": [],
   "source": [
    "X_train = X_train.astype('float32')\n",
    "X_test = X_test.astype('float32')\n",
    "X_train /= 255\n",
    "X_test /= 255\n",
    "X_train = X_train.reshape(X_train.shape[0], 784)\n",
    "X_test = X_test.reshape(X_test.shape[0], 784)\n"
   ]
  },
  {
   "cell_type": "code",
   "execution_count": 67,
   "metadata": {},
   "outputs": [
    {
     "data": {
      "text/plain": [
       "(60000, 784)"
      ]
     },
     "execution_count": 67,
     "metadata": {},
     "output_type": "execute_result"
    }
   ],
   "source": [
    "X_train.shape"
   ]
  },
  {
   "cell_type": "code",
   "execution_count": 68,
   "metadata": {},
   "outputs": [
    {
     "data": {
      "text/plain": [
       "(10000, 784)"
      ]
     },
     "execution_count": 68,
     "metadata": {},
     "output_type": "execute_result"
    }
   ],
   "source": [
    "X_test.shape"
   ]
  },
  {
   "cell_type": "code",
   "execution_count": 69,
   "metadata": {},
   "outputs": [
    {
     "data": {
      "text/plain": [
       "(784,)"
      ]
     },
     "execution_count": 69,
     "metadata": {},
     "output_type": "execute_result"
    }
   ],
   "source": [
    "X_train[1].shape"
   ]
  },
  {
   "cell_type": "code",
   "execution_count": 70,
   "metadata": {},
   "outputs": [
    {
     "data": {
      "text/plain": [
       "<matplotlib.image.AxesImage at 0x7fddded0c950>"
      ]
     },
     "execution_count": 70,
     "metadata": {},
     "output_type": "execute_result"
    },
    {
     "data": {
      "image/png": "[encoded data removed]",
      "text/plain": [
       "<Figure size 432x288 with 1 Axes>"
      ]
     },
     "metadata": {
      "needs_background": "light"
     },
     "output_type": "display_data"
    }
   ],
   "source": [
    "image1 = X_train[1].reshape(28,28)\n",
    "plt.imshow(image1,cmap='gist_gray')"
   ]
  },
  {
   "cell_type": "code",
   "execution_count": 71,
   "metadata": {},
   "outputs": [
    {
     "data": {
      "text/plain": [
       "0.0"
      ]
     },
     "execution_count": 71,
     "metadata": {},
     "output_type": "execute_result"
    }
   ],
   "source": [
    "image1.min()"
   ]
  },
  {
   "cell_type": "code",
   "execution_count": 72,
   "metadata": {},
   "outputs": [
    {
     "data": {
      "text/plain": [
       "1.0"
      ]
     },
     "execution_count": 72,
     "metadata": {},
     "output_type": "execute_result"
    }
   ],
   "source": [
    "image1.max()"
   ]
  },
  {
   "cell_type": "code",
   "execution_count": 75,
   "metadata": {},
   "outputs": [],
   "source": [
    "# แปลงข้อมูล class ให้อยู่ในรูปของเวคเตอร์ 10 มิติเช่นเดียวกับ output ของ NN \n",
    "from keras.utils import np_utils\n",
    "y_train = np_utils.to_categorical(y_train, 10)\n",
    "y_test = np_utils.to_categorical(y_test, 10)"
   ]
  },
  {
   "cell_type": "code",
   "execution_count": 194,
   "metadata": {},
   "outputs": [],
   "source": [
    "# create model\n",
    "model2 = Sequential()\n",
    "model2.add(Dense(100, input_shape=(784,), activation='relu'))\n",
    "#model2.add(Dense(100, activation='tanh'))\n",
    "model2.add(Dense(10, activation='softmax'))"
   ]
  },
  {
   "cell_type": "code",
   "execution_count": 195,
   "metadata": {},
   "outputs": [],
   "source": [
    "# compile model\n",
    "model2.compile(loss='categorical_crossentropy', \n",
    "              optimizer='adam', \n",
    "              metrics=['accuracy'])"
   ]
  },
  {
   "cell_type": "code",
   "execution_count": 196,
   "metadata": {},
   "outputs": [
    {
     "name": "stdout",
     "output_type": "stream",
     "text": [
      "Train on 60000 samples, validate on 10000 samples\n",
      "Epoch 1/10\n",
      "60000/60000 [==============================] - 4s 61us/step - loss: 0.3196 - accuracy: 0.9117 - val_loss: 0.1723 - val_accuracy: 0.9508\n",
      "Epoch 2/10\n",
      "60000/60000 [==============================] - 3s 55us/step - loss: 0.1521 - accuracy: 0.9567 - val_loss: 0.1256 - val_accuracy: 0.9633\n",
      "Epoch 3/10\n",
      "60000/60000 [==============================] - 4s 64us/step - loss: 0.1076 - accuracy: 0.9693 - val_loss: 0.1052 - val_accuracy: 0.9694\n",
      "Epoch 4/10\n",
      "60000/60000 [==============================] - 4s 64us/step - loss: 0.0827 - accuracy: 0.9757 - val_loss: 0.0955 - val_accuracy: 0.9716\n",
      "Epoch 5/10\n",
      "60000/60000 [==============================] - 3s 55us/step - loss: 0.0654 - accuracy: 0.9809 - val_loss: 0.0876 - val_accuracy: 0.9733\n",
      "Epoch 6/10\n",
      "60000/60000 [==============================] - 3s 55us/step - loss: 0.0539 - accuracy: 0.9845 - val_loss: 0.0803 - val_accuracy: 0.9742\n",
      "Epoch 7/10\n",
      "60000/60000 [==============================] - 3s 54us/step - loss: 0.0446 - accuracy: 0.9869 - val_loss: 0.0736 - val_accuracy: 0.9772\n",
      "Epoch 8/10\n",
      "60000/60000 [==============================] - 3s 55us/step - loss: 0.0361 - accuracy: 0.9899 - val_loss: 0.0755 - val_accuracy: 0.9755\n",
      "Epoch 9/10\n",
      "60000/60000 [==============================] - 4s 59us/step - loss: 0.0293 - accuracy: 0.9919 - val_loss: 0.0706 - val_accuracy: 0.9787\n",
      "Epoch 10/10\n",
      "60000/60000 [==============================] - 3s 55us/step - loss: 0.0260 - accuracy: 0.9923 - val_loss: 0.0725 - val_accuracy: 0.9772\n"
     ]
    }
   ],
   "source": [
    "# fit model\n",
    "history2 = model2.fit(X_train, y_train, \n",
    "                    validation_data=(X_test, y_test),\n",
    "                    epochs=10, \n",
    "                    batch_size=64,\n",
    "                     )"
   ]
  },
  {
   "cell_type": "code",
   "execution_count": 197,
   "metadata": {
    "scrolled": true
   },
   "outputs": [
    {
     "name": "stdout",
     "output_type": "stream",
     "text": [
      "Model: \"sequential_33\"\n",
      "_________________________________________________________________\n",
      "Layer (type)                 Output Shape              Param #   \n",
      "=================================================================\n",
      "dense_83 (Dense)             (None, 100)               78500     \n",
      "_________________________________________________________________\n",
      "dense_84 (Dense)             (None, 10)                1010      \n",
      "=================================================================\n",
      "Total params: 79,510\n",
      "Trainable params: 79,510\n",
      "Non-trainable params: 0\n",
      "_________________________________________________________________\n"
     ]
    }
   ],
   "source": [
    "model2.summary()"
   ]
  },
  {
   "cell_type": "code",
   "execution_count": 198,
   "metadata": {},
   "outputs": [
    {
     "name": "stdout",
     "output_type": "stream",
     "text": [
      "dict_keys(['val_loss', 'val_accuracy', 'loss', 'accuracy'])\n"
     ]
    }
   ],
   "source": [
    "# list all data in history\n",
    "print(history2.history.keys())"
   ]
  },
  {
   "cell_type": "code",
   "execution_count": 199,
   "metadata": {},
   "outputs": [
    {
     "data": {
      "image/png": "[encoded data removed]",
      "text/plain": [
       "<Figure size 432x288 with 1 Axes>"
      ]
     },
     "metadata": {
      "needs_background": "light"
     },
     "output_type": "display_data"
    }
   ],
   "source": [
    "# summarize history for accuracy\n",
    "plt.plot(history2.history['accuracy'])\n",
    "plt.plot(history2.history['val_accuracy'])\n",
    "plt.title('model accuracy')\n",
    "plt.ylabel('accuracy')\n",
    "plt.xlabel('epoch')\n",
    "plt.legend(['train', 'test'], loc='lower right')\n",
    "plt.show()"
   ]
  },
  {
   "cell_type": "code",
   "execution_count": 200,
   "metadata": {},
   "outputs": [
    {
     "data": {
      "image/png": "[encoded data removed]",
      "text/plain": [
       "<Figure size 432x288 with 1 Axes>"
      ]
     },
     "metadata": {
      "needs_background": "light"
     },
     "output_type": "display_data"
    }
   ],
   "source": [
    "# summarize history for loss\n",
    "plt.plot(history2.history['loss'])\n",
    "plt.plot(history2.history['val_loss'])\n",
    "plt.title('model loss')\n",
    "plt.ylabel('loss')\n",
    "plt.xlabel('epoch')\n",
    "plt.legend(['train', 'test'], loc='lower right')\n",
    "plt.show()"
   ]
  },
  {
   "cell_type": "code",
   "execution_count": null,
   "metadata": {},
   "outputs": [],
   "source": []
  }
 ],
 "metadata": {
  "kernelspec": {
   "display_name": "Python 3",
   "language": "python",
   "name": "python3"
  },
  "language_info": {
   "codemirror_mode": {
    "name": "ipython",
    "version": 3
   },
   "file_extension": ".py",
   "mimetype": "text/x-python",
   "name": "python",
   "nbconvert_exporter": "python",
   "pygments_lexer": "ipython3",
   "version": "3.7.6"
  }
 },
 "nbformat": 4,
 "nbformat_minor": 4
}
